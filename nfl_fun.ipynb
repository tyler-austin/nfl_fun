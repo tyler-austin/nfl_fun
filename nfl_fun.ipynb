{
 "cells": [
  {
   "cell_type": "code",
   "execution_count": 2,
   "metadata": {
    "collapsed": true
   },
   "outputs": [],
   "source": [
    "# Libraries that we will be using\n",
    "import nflgame"
   ]
  },
  {
   "cell_type": "code",
   "execution_count": 8,
   "metadata": {
    "collapsed": true
   },
   "outputs": [],
   "source": [
    "# List to contain all plays that we are looking for\n",
    "plays = list()"
   ]
  },
  {
   "cell_type": "code",
   "execution_count": 11,
   "metadata": {},
   "outputs": [
    {
     "name": "stdout",
     "output_type": "stream",
     "text": [
      "Years: [2001, 2002, 2003, 2004, 2005, 2006, 2007, 2008, 2009, 2010, 2011, 2012, 2013, 2014, 2015, 2016]\n"
     ]
    }
   ],
   "source": [
    "# The years for which we will be pulling plays from\n",
    "inital_year = 2001\n",
    "final_year = 2016\n",
    "\n",
    "# List of years\n",
    "years = [y for y in xrange(inital_year, final_year + 1, 1)]\n",
    "print 'Years:', years"
   ]
  },
  {
   "cell_type": "code",
   "execution_count": 14,
   "metadata": {},
   "outputs": [
    {
     "name": "stdout",
     "output_type": "stream",
     "text": [
      "Ways that we can reference a team: ['NE', 'New England', 'Patriots', 'New England Patriots', 'N.E.', 'NWE']\n"
     ]
    }
   ],
   "source": [
    "for team in nflgame.teams:\n",
    "    if 'Patriots' in team:\n",
    "        print 'Ways that we can reference a team:', team"
   ]
  },
  {
   "cell_type": "markdown",
   "metadata": {},
   "source": [
    "  \n",
    "### API link to the \"games\" function that we will be using: \n",
    "http://pdoc.burntsushi.net/nflgame#nflgame.games\n",
    "\n",
    "The function can take 6 parameters, however, we will only be using four of them. \n",
    "\n",
    "The first parameter is the years from which we will be requesting games. This parameter can be passed as a single year or a list of years. We will be using the list of years that we delcared earlier.\n",
    "\n",
    "The next two parameters are the home and away team of the game. Since we don't know if the single team that we are looking for is the home or the away team, the API has a nifty builting logics that allows us to provide our single team to the home and away parameters and promises to give us any of the games they played in. \n",
    "\n",
    "The last parameter that we are using is the \"kind\" parameter that allows us to select what type of games we would like the function to return. For this example we are going to just focus on the regular season games by using the value \"REG\", however if you are interest in preseason and postseason game you can also use the values \"PRE\" and \"POST\" respectively."
   ]
  },
  {
   "cell_type": "code",
   "execution_count": null,
   "metadata": {
    "collapsed": true
   },
   "outputs": [],
   "source": [
    "# List of Regular Season Games for the team of our choice\n",
    "team = 'NE' # New England Patriots\n",
    "kind = 'REG' # Regular season\n",
    "\n",
    "games = nflgame.games(years, home='NE', away='NE', kind='REG')"
   ]
  },
  {
   "cell_type": "code",
   "execution_count": 3,
   "metadata": {
    "collapsed": true
   },
   "outputs": [],
   "source": [
    "\n",
    "\n",
    "for game in games:\n",
    "    for drive in game.data['drives'].iterkeys():\n",
    "        if drive.isdigit():\n",
    "            for play in game.data['drives'][drive]['plays'].iterkeys():\n",
    "                desc = game.data['drives'][drive]['plays'][play]['desc']\n",
    "                plays.append(desc)"
   ]
  },
  {
   "cell_type": "code",
   "execution_count": 7,
   "metadata": {},
   "outputs": [
    {
     "name": "stdout",
     "output_type": "stream",
     "text": [
      "Number of plays: 23237\n"
     ]
    }
   ],
   "source": [
    "print 'Number of plays:', len(plays)"
   ]
  },
  {
   "cell_type": "code",
   "execution_count": null,
   "metadata": {
    "collapsed": true
   },
   "outputs": [],
   "source": []
  }
 ],
 "metadata": {
  "kernelspec": {
   "display_name": "Python 2",
   "language": "python",
   "name": "python2"
  },
  "language_info": {
   "codemirror_mode": {
    "name": "ipython",
    "version": 2
   },
   "file_extension": ".py",
   "mimetype": "text/x-python",
   "name": "python",
   "nbconvert_exporter": "python",
   "pygments_lexer": "ipython2",
   "version": "2.7.12"
  }
 },
 "nbformat": 4,
 "nbformat_minor": 2
}
